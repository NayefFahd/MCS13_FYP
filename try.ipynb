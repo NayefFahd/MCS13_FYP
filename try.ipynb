{
 "cells": [
  {
   "cell_type": "code",
   "execution_count": 20,
   "metadata": {},
   "outputs": [],
   "source": [
    "import pandas as pd\n",
    "import numpy as np\n",
    "import matplotlib.pyplot as plt\n",
    "import seaborn as sns\n",
    "\n",
    "# Technical indicator library\n",
    "import talib as ta\n",
    "\n",
    "# Data Source\n",
    "import yfinance as yf\n",
    "from sklearn.preprocessing import StandardScaler\n",
    "\n",
    "# For time stamps\n",
    "from datetime import datetime\n",
    "import math\n",
    "from sklearn.preprocessing import MinMaxScaler\n",
    "from keras.models import Sequential\n",
    "from keras.layers import Dense, LSTM\n",
    "import os\n",
    "from keras.models import load_model\n",
    "import time"
   ]
  },
  {
   "cell_type": "code",
   "execution_count": 38,
   "metadata": {},
   "outputs": [
    {
     "name": "stdout",
     "output_type": "stream",
     "text": [
      "1/1 [==============================] - 0s 111ms/step\n",
      "140.11388\n"
     ]
    }
   ],
   "source": [
    "from pickle import load\n",
    "df = yf.Ticker(\"AAPL\").history('3mo',interval='1wk').filter([\"Close\"])\n",
    "df.dropna(inplace=True)\n",
    "model_weekly4 = load_model('weekly_dataset_model4.h5')\n",
    "weeklyScaler = load(open('scaler_weekly.sav', 'rb'))\n",
    "# Normalize data\n",
    "scaled_data = weeklyScaler.fit_transform(df)\n",
    "# training_data_len = 4\n",
    "x_train = []\n",
    "y_train = []\n",
    "training_data_len = int(len(df)*0.9)\n",
    "\n",
    "#Create Training Dataset\n",
    "train_data = scaled_data[0:training_data_len, : ]\n",
    "for i in range(4,len(train_data)):\n",
    "    x_train.append(train_data[i-4:i,0])\n",
    "    y_train.append(train_data[i,0])\n",
    "\n",
    "#Convert x_train and y_train to numpy array\n",
    "x_train , y_train = np.array(x_train), np.array(y_train)\n",
    "# Reshape data\n",
    "x_train  = np.reshape(x_train, (x_train.shape[0],x_train.shape[1],1))\n",
    "\n",
    "model_weekly4.fit(x_train, y_train, epochs = 10, batch_size = 1,verbose=False)\n",
    "model_weekly4.save('weekly_dataset_model4.h5')\n",
    "model_weekly4 = load_model('weekly_dataset_model4.h5')\n",
    "\n",
    "# Create the testing dataset\n",
    "test_data = scaled_data[training_data_len-4:, :]\n",
    "\n",
    "# Create data sets x_test and y_test\n",
    "x_test = []\n",
    "y_test = scaled_data[training_data_len:, :]\n",
    "\n",
    "for j in range(4, len(test_data)):\n",
    "    x_test.append(test_data[j-4:j, 0])\n",
    "new_x_test = x_test[-1]\n",
    "new_x_test = np.delete(x_test[-1], 0)\n",
    "new_x_test = np.append(new_x_test, y_test[-1])\n",
    "\n",
    "# reshape data\n",
    "new_x_test = np.reshape(new_x_test, (1, 4, 1))\n",
    "# print(new_x_test)\n",
    "# get the models predicted price values\n",
    "predictions = model_weekly4.predict(new_x_test)\n",
    "predictions = weeklyScaler.inverse_transform(predictions)\n",
    "print(predictions[0][0])"
   ]
  }
 ],
 "metadata": {
  "kernelspec": {
   "display_name": "Python 3.9.12 ('FYP')",
   "language": "python",
   "name": "python3"
  },
  "language_info": {
   "codemirror_mode": {
    "name": "ipython",
    "version": 3
   },
   "file_extension": ".py",
   "mimetype": "text/x-python",
   "name": "python",
   "nbconvert_exporter": "python",
   "pygments_lexer": "ipython3",
   "version": "3.9.12"
  },
  "orig_nbformat": 4,
  "vscode": {
   "interpreter": {
    "hash": "2abe76198a0e8f6127efcd312612356382059f5f60b1f8ee73b27c7ae053ca7c"
   }
  }
 },
 "nbformat": 4,
 "nbformat_minor": 2
}
